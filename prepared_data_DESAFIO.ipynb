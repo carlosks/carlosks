{
  "nbformat": 4,
  "nbformat_minor": 0,
  "metadata": {
    "colab": {
      "provenance": [],
      "authorship_tag": "ABX9TyOJWC/3nv3g75ATCrUHcj8b",
      "include_colab_link": true
    },
    "kernelspec": {
      "name": "python3",
      "display_name": "Python 3"
    },
    "language_info": {
      "name": "python"
    }
  },
  "cells": [
    {
      "cell_type": "markdown",
      "metadata": {
        "id": "view-in-github",
        "colab_type": "text"
      },
      "source": [
        "<a href=\"https://colab.research.google.com/github/carlosks/carlosks/blob/main/prepared_data_DESAFIO.ipynb\" target=\"_parent\"><img src=\"https://colab.research.google.com/assets/colab-badge.svg\" alt=\"Open In Colab\"/></a>"
      ]
    },
    {
      "cell_type": "code",
      "execution_count": 1,
      "metadata": {
        "colab": {
          "base_uri": "https://localhost:8080/"
        },
        "id": "e5dwMA95F1pf",
        "outputId": "52246d6a-4da0-46a7-d642-9aba1e5d4943"
      },
      "outputs": [
        {
          "output_type": "stream",
          "name": "stdout",
          "text": [
            "Mounted at /content/drive\n"
          ]
        }
      ],
      "source": [
        "#Conexão com o Google Drive\n",
        "\n",
        "from google.colab import drive\n",
        "drive.mount('/content/drive')"
      ]
    },
    {
      "cell_type": "code",
      "source": [
        "import json\n",
        "\n",
        "def process_news_summaries_file(file_path, processed_data):\n",
        "    #Lê um arquivo JSON do nosso dataset, processa cada notícia para formatar conforme o solicitado e adiciona à lista processed_data\n",
        "    with open(file_path, 'r', encoding='utf-8') as file:\n",
        "        # Iterate over each line in the file\n",
        "        for line in file:\n",
        "            # Try to load each line as a separate JSON object\n",
        "            try:\n",
        "                json_data = json.loads(line)\n",
        "\n",
        "                # Check if the required keys exists in the JSON object\n",
        "                if \"title\" in json_data and \"content\" in json_data:\n",
        "                    title = json_data[\"title\"]\n",
        "                    content = json_data[\"content\"]\n",
        "                    formatted_text = f\"SUMMARIZE THIS CONTENT.\\n[|title|] {title}[|etitle|]\\n\\n[|content|]{content}[|econtent|]\"\n",
        "                    processed_data.append({\"input\": formatted_text})\n",
        "            # Handle JSONDecodeError if a line is not valid JSON\n",
        "            except json.JSONDecodeError:\n",
        "                print(f\"Skipping invalid JSON data in line: {line}\")\n",
        "\n"
      ],
      "metadata": {
        "id": "M4hIEdnuKTym"
      },
      "execution_count": 4,
      "outputs": []
    },
    {
      "cell_type": "code",
      "source": [
        "\n",
        "# Lista para armazenar todos os dados processados\n",
        "processed_data = []\n",
        "\n",
        "# Adicionar dados processados do arquivo JSON regular à mesma lista\n",
        "process_news_summaries_file(r'/content/drive/MyDrive/Desafio_Fase_3/arquivos 40 Mega/TRN_Dataset_Part_1.json', processed_data)\n",
        "\n",
        "# Salvar todos os dados processados em um arquivo JSON\n",
        "output_filename = r'/content/drive/MyDrive/Desafio_Fase_3/arquivos 40 Mega/titles_dataset_chat_data.json'\n",
        "with open(output_filename, 'w', encoding='utf-8') as file:\n",
        "    json.dump(processed_data, file, ensure_ascii=False, indent=4)\n",
        "\n",
        "print(f\"Todos os dados reformatados foram salvos em '{output_filename}'.\")"
      ],
      "metadata": {
        "colab": {
          "base_uri": "https://localhost:8080/"
        },
        "id": "sLQGa6PcHQbu",
        "outputId": "4a4b74ab-9bd7-411a-b94b-7f4d3b9bbbb8"
      },
      "execution_count": 5,
      "outputs": [
        {
          "output_type": "stream",
          "name": "stdout",
          "text": [
            "Todos os dados reformatados foram salvos em '/content/drive/MyDrive/Desafio_Fase_3/arquivos 40 Mega/titles_dataset_chat_data.json'.\n"
          ]
        }
      ]
    },
    {
      "cell_type": "code",
      "source": [
        "from typing_extensions import Concatenate\n",
        "import json\n",
        "\n",
        "\n",
        "\n",
        "def format_dataset_into_model_input(data):\n",
        "\n",
        "    def separate_text(full_text):\n",
        "\n",
        "        # Encontrar os delimitadores\n",
        "\n",
        "        title_start = full_text.find(\"[|title|]\") + len(\"[|title|]\")\n",
        "\n",
        "        title_end = full_text.find(\"[|etitle|]\")\n",
        "\n",
        "        content_start = full_text.find(\"[|content|]\") + len(\"[|content|]\")\n",
        "\n",
        "        content_end = full_text.find(\"[|econtent|]\")\n",
        "\n",
        "\n",
        "\n",
        "        # Verificar se todos os delimitadores foram encontrados\n",
        "\n",
        "        if title_start == -1 or title_end == -1 or content_start == -1 or content_end == -1:\n",
        "\n",
        "            print(f\"Delimitador faltando no texto: {full_text[:50]}...\")\n",
        "\n",
        "            return None, None, None\n",
        "\n",
        "\n",
        "\n",
        "        # Extrair a instrução, texto de entrada e resposta\n",
        "\n",
        "        instruction = full_text.split('\\n')[0]  # Primeira linha é a instrução\n",
        "\n",
        "        input_text = full_text[title_start:title_end].strip()  # Extrair texto entre [|News|] e [|eNews|]\n",
        "\n",
        "        response = full_text[content_start:content_end].strip()  # Extrair resumo entre [|summary|] e [|esummary|]\n",
        "\n",
        "\n",
        "\n",
        "        return instruction, input_text, response\n",
        "\n",
        "\n",
        "\n",
        "    # Inicializando as listas para armazenar os dados\n",
        "\n",
        "    instructions = []\n",
        "\n",
        "    inputs = []\n",
        "\n",
        "    outputs = []\n",
        "\n",
        "\n",
        "\n",
        "    # Processando o dataset\n",
        "\n",
        "    try:\n",
        "\n",
        "        for item in data:\n",
        "\n",
        "            # Acessar diretamente o campo 'input' e extrair o conteúdo\n",
        "\n",
        "            instruction, input_text, response = separate_text(item['input'])\n",
        "\n",
        "            if instruction and input_text and response:  # Verificar se todos os textos são válidos\n",
        "\n",
        "                instructions.append(instruction)\n",
        "\n",
        "                inputs.append(input_text)\n",
        "\n",
        "                outputs.append(response)\n",
        "\n",
        "    except KeyboardInterrupt:\n",
        "\n",
        "        pass  # Ignorar interrupções de teclado\n",
        "\n",
        "\n",
        "\n",
        "    # Criar o dicionário final\n",
        "\n",
        "    formatted_data = {\n",
        "\n",
        "        \"instruction\": instructions,\n",
        "\n",
        "        \"input\": inputs,\n",
        "\n",
        "        \"output\": outputs\n",
        "\n",
        "    }\n",
        "\n",
        "\n",
        "\n",
        "    # Salvar o resultado em um arquivo JSON\n",
        "\n",
        "    with open(OUTPUT_PATH_DATASET, 'w') as output_file:\n",
        "\n",
        "        json.dump(formatted_data, output_file, indent=4)"
      ],
      "metadata": {
        "id": "OK152CK86_rm"
      },
      "execution_count": 9,
      "outputs": []
    },
    {
      "cell_type": "code",
      "source": [
        "DATA_PATH = \"/content/drive/MyDrive/Desafio_Fase_3/arquivos 40 Mega/titles_dataset_chat_data.json\"\n",
        "OUTPUT_PATH_DATASET = \"/content/drive/MyDrive/Desafio_Fase_3/arquivos 40 Mega/formated_titles_dataset_chat_data.json\"\n",
        "\n",
        "# Load the dataset\n",
        "with open(DATA_PATH, 'r') as f:\n",
        "    data = json.load(f)\n",
        "\n",
        "format_dataset_into_model_input(data)"
      ],
      "metadata": {
        "id": "LBiOKNJq709w"
      },
      "execution_count": 10,
      "outputs": []
    }
  ]
}