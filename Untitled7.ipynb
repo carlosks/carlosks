{
  "nbformat": 4,
  "nbformat_minor": 0,
  "metadata": {
    "colab": {
      "provenance": [],
      "authorship_tag": "ABX9TyMWXH8/7KUAMtIcYDd1P2/Q",
      "include_colab_link": true
    },
    "kernelspec": {
      "name": "python3",
      "display_name": "Python 3"
    },
    "language_info": {
      "name": "python"
    }
  },
  "cells": [
    {
      "cell_type": "markdown",
      "metadata": {
        "id": "view-in-github",
        "colab_type": "text"
      },
      "source": [
        "<a href=\"https://colab.research.google.com/github/carlosks/carlosks/blob/main/Untitled7.ipynb\" target=\"_parent\"><img src=\"https://colab.research.google.com/assets/colab-badge.svg\" alt=\"Open In Colab\"/></a>"
      ]
    },
    {
      "cell_type": "code",
      "source": [
        "import random\n",
        "import numpy as np\n",
        "import matplotlib.pyplot as plt\n",
        "\n",
        "# Definição das características dos deputados\n",
        "class Deputado:\n",
        "  def __init__(self, ficha_limpa, educacao, experiencia, transparencia, popularidade):\n",
        "    self.ficha_limpa = ficha_limpa\n",
        "    self.educacao = educacao\n",
        "    self.experiencia = experiencia\n",
        "    self.transparencia = transparencia\n",
        "    self.popularidade = popularidade\n",
        "\n",
        "  def __repr__(self):\n",
        "    return (f\"Deputado(ficha_limpa={self.ficha_limpa}, educacao={self.educacao}, \"\n",
        "    f\"experiencia={self.experiencia}, transparencia={self.transparencia}, \"\n",
        "    f\"popularidade={self.popularidade})\")\n",
        "\n",
        "# Parâmetros do algoritmo genético\n",
        "population_size = 513\n",
        "num_generations = 1000 # Aumentando o número de gerações para maior garantia de convergência\n",
        "mutation_rate = 0.01\n",
        "\n",
        "# Função de aptidão\n",
        "def fitness(deputado):\n",
        "  return (deputado.ficha_limpa * 5 +\n",
        "          deputado.educacao * 2 +\n",
        "          deputado.experiencia +\n",
        "          deputado.transparencia * 3 +\n",
        "          deputado.popularidade * 2)\n",
        "\n",
        "  return fitness\n",
        "\n",
        "\n",
        "def generate_random_population(size):\n",
        "  population = []\n",
        "  for _ in range(size):\n",
        "    ficha_limpa = random.choice([0, 1])\n",
        "    educacao = random.randint(0, 5) # Nível de escolaridade de 0 a 5\n",
        "    experiencia = random.randint(0, 20) # Anos de experiência\n",
        "    transparencia = random.randint(0, 5) # Índice de transparência de 0 a 5\n",
        "    popularidade = random.randint(0, 100) # Popularidade de 0 a 100\n",
        "    deputado = Deputado(ficha_limpa, educacao, experiencia, transparencia, popularidade)\n",
        "    population.append(deputado)\n",
        "  return population\n",
        "\n",
        "# Cruzamento de dois deputados\n",
        "def crossover(parent1, parent2):\n",
        "  crossover_point = random.randint(1, 4)\n",
        "  child1_attrs = list(parent1.__dict__.values())[:crossover_point] + list(parent2.__dict__.values())[crossover_point:]\n",
        "  child2_attrs = list(parent2.__dict__.values())[:crossover_point] + list(parent1.__dict__.values())[crossover_point:]\n",
        "  return Deputado(*child1_attrs), Deputado(*child2_attrs)\n"
      ],
      "metadata": {
        "id": "V8p7BReNVXK1"
      },
      "execution_count": null,
      "outputs": []
    }
  ]
}