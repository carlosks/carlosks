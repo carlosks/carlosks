{
  "nbformat": 4,
  "nbformat_minor": 0,
  "metadata": {
    "colab": {
      "provenance": [],
      "authorship_tag": "ABX9TyNQ5gMXSoKUNSjyOtr5CqYZ",
      "include_colab_link": true
    },
    "kernelspec": {
      "name": "python3",
      "display_name": "Python 3"
    },
    "language_info": {
      "name": "python"
    }
  },
  "cells": [
    {
      "cell_type": "markdown",
      "metadata": {
        "id": "view-in-github",
        "colab_type": "text"
      },
      "source": [
        "<a href=\"https://colab.research.google.com/github/carlosks/carlosks/blob/main/Divide_Arquivo_desafio_7_partes.ipynb\" target=\"_parent\"><img src=\"https://colab.research.google.com/assets/colab-badge.svg\" alt=\"Open In Colab\"/></a>"
      ]
    },
    {
      "cell_type": "code",
      "execution_count": 1,
      "metadata": {
        "colab": {
          "base_uri": "https://localhost:8080/"
        },
        "id": "rLiyzslVT3nj",
        "outputId": "3f76d025-773e-4ddc-b786-a72987390499"
      },
      "outputs": [
        {
          "output_type": "stream",
          "name": "stdout",
          "text": [
            "Mounted at /content/drive\n"
          ]
        }
      ],
      "source": [
        "#Conexão com o Google Drive\n",
        "\n",
        "from google.colab import drive\n",
        "drive.mount('/content/drive')"
      ]
    },
    {
      "cell_type": "code",
      "source": [
        "import pandas as pd\n",
        "\n",
        "import json\n",
        "\n",
        "import numpy as np\n",
        "\n",
        "\n",
        "\n",
        "# Carregar o JSON de um arquivo ou string\n",
        "\n",
        "with open('/content/drive/MyDrive/Desafio_Fase_3/trn.json', 'r') as f:\n",
        "\n",
        "    # Read the file content as a string\n",
        "\n",
        "    file_content = f.read()\n",
        "\n",
        "\n",
        "\n",
        "    # Try to load the content as JSON\n",
        "\n",
        "    try:\n",
        "\n",
        "        dados_json = json.loads(file_content)\n",
        "\n",
        "    except json.JSONDecodeError:\n",
        "\n",
        "        # If the content is not a valid JSON, try to load it as a list of JSON objects\n",
        "\n",
        "        dados_json = [json.loads(line) for line in file_content.splitlines() if line.strip()]\n",
        "\n",
        "\n",
        "\n",
        "# Converter o JSON em um DataFrame normalizado\n",
        "\n",
        "df = pd.json_normalize(dados_json)\n",
        "\n",
        "\n",
        "\n",
        "# Filtrar os registros cujo uid seja somente numérico\n",
        "\n",
        "try:\n",
        "\n",
        "    df_filtered = df[df['uid'].apply(lambda x: str(x).isdigit())]\n",
        "\n",
        "except KeyError:\n",
        "\n",
        "    print(\"Coluna 'uid' não encontrada, excluindo os registros.\")\n",
        "\n",
        "    df_filtered = df.drop(columns=['uid'], errors='ignore')\n",
        "\n",
        "\n",
        "\n",
        "try:\n",
        "\n",
        "    # Filtrar registros onde 'contents' não está vazio (ou seja, não nulo e não string vazia)\n",
        "\n",
        "    df_filtered = df_filtered[df_filtered['content'].notna() & (df_filtered['content'].str.strip() != '')]\n",
        "\n",
        "except KeyError:\n",
        "\n",
        "    print(\"Coluna 'contents' não encontrada, excluindo os registros.\")\n",
        "\n",
        "    df_filtered = df_filtered.drop(columns=['content'], errors='ignore')\n",
        "\n",
        "\n",
        "\n",
        "# Excluir todas as colunas que não sejam 'title' e 'contents'\n",
        "\n",
        "df_filtered = df_filtered[['title', 'content']]\n",
        "\n",
        "\n",
        "\n",
        "# Dividir o DataFrame em 4 partes iguais\n",
        "\n",
        "dfs = np.array_split(df_filtered, 7)\n",
        "\n",
        "\n",
        "\n",
        "# Salvar cada parte em um arquivo JSON separado\n",
        "\n",
        "for i, df_part in enumerate(dfs):\n",
        "\n",
        "    file_name = f'/content/drive/MyDrive/Desafio_Fase_3/TRN_Dataset_Part_{i+1}.json'\n",
        "\n",
        "    df_part.to_json(file_name, orient='records', lines=True)\n",
        "\n",
        "    print(f\"Arquivo {file_name} salvo com sucesso!\")"
      ],
      "metadata": {
        "colab": {
          "base_uri": "https://localhost:8080/"
        },
        "id": "xETjNxySURRs",
        "outputId": "be220046-2df2-436a-f2cb-fca64390a086"
      },
      "execution_count": 1,
      "outputs": [
        {
          "output_type": "stream",
          "name": "stderr",
          "text": [
            "/usr/local/lib/python3.10/dist-packages/numpy/core/fromnumeric.py:59: FutureWarning: 'DataFrame.swapaxes' is deprecated and will be removed in a future version. Please use 'DataFrame.transpose' instead.\n",
            "  return bound(*args, **kwds)\n"
          ]
        },
        {
          "output_type": "stream",
          "name": "stdout",
          "text": [
            "Arquivo /content/drive/MyDrive/Desafio_Fase_3/TRN_Dataset_Part_1.json salvo com sucesso!\n",
            "Arquivo /content/drive/MyDrive/Desafio_Fase_3/TRN_Dataset_Part_2.json salvo com sucesso!\n",
            "Arquivo /content/drive/MyDrive/Desafio_Fase_3/TRN_Dataset_Part_3.json salvo com sucesso!\n",
            "Arquivo /content/drive/MyDrive/Desafio_Fase_3/TRN_Dataset_Part_4.json salvo com sucesso!\n",
            "Arquivo /content/drive/MyDrive/Desafio_Fase_3/TRN_Dataset_Part_5.json salvo com sucesso!\n",
            "Arquivo /content/drive/MyDrive/Desafio_Fase_3/TRN_Dataset_Part_6.json salvo com sucesso!\n",
            "Arquivo /content/drive/MyDrive/Desafio_Fase_3/TRN_Dataset_Part_7.json salvo com sucesso!\n"
          ]
        }
      ]
    }
  ]
}