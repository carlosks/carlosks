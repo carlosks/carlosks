{
  "nbformat": 4,
  "nbformat_minor": 0,
  "metadata": {
    "colab": {
      "provenance": [],
      "authorship_tag": "ABX9TyNKv3TkAYK013mIeddZDNmV",
      "include_colab_link": true
    },
    "kernelspec": {
      "name": "python3",
      "display_name": "Python 3"
    },
    "language_info": {
      "name": "python"
    }
  },
  "cells": [
    {
      "cell_type": "markdown",
      "metadata": {
        "id": "view-in-github",
        "colab_type": "text"
      },
      "source": [
        "<a href=\"https://colab.research.google.com/github/carlosks/carlosks/blob/main/Untitled26.ipynb\" target=\"_parent\"><img src=\"https://colab.research.google.com/assets/colab-badge.svg\" alt=\"Open In Colab\"/></a>"
      ]
    },
    {
      "cell_type": "code",
      "execution_count": 1,
      "metadata": {
        "colab": {
          "base_uri": "https://localhost:8080/"
        },
        "id": "ShR-FR4w-JhU",
        "outputId": "4418bcee-4a58-442b-ecd1-9494eadf9309"
      },
      "outputs": [
        {
          "output_type": "stream",
          "name": "stdout",
          "text": [
            "Mounted at /content/drive\n"
          ]
        }
      ],
      "source": [
        "#Conexão com o Google Drive\n",
        "\n",
        "from google.colab import drive\n",
        "drive.mount('/content/drive')"
      ]
    },
    {
      "cell_type": "code",
      "source": [
        "from datasets import load_dataset\n",
        "\n",
        "import json\n",
        "\n",
        "\n",
        "# Exemplo: carregando o dataset 'ag_news' (você pode substituir pelo dataset de sua escolha)\n",
        "\n",
        "dataset = load_dataset(\"glnmario/news-qa-summarization\")\n",
        "\n",
        "\n",
        "\n",
        "# Converta os dados de treino em JSON\n",
        "\n",
        "train_data = dataset['train']\n",
        "\n",
        "\n",
        "\n",
        "# Salva o dataset no formato JSON\n",
        "\n",
        "with open('train_data.json', 'w') as f:\n",
        "\n",
        "    for entry in train_data:\n",
        "\n",
        "        json.dump(entry, f)\n",
        "\n",
        "       # f.write('\\n')  # Para separar cada entrada como uma nova linha no arquivo"
      ],
      "metadata": {
        "id": "Um3vj8SBgK8G"
      },
      "execution_count": 13,
      "outputs": []
    }
  ]
}