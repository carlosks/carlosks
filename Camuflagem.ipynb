{
  "nbformat": 4,
  "nbformat_minor": 0,
  "metadata": {
    "colab": {
      "provenance": [],
      "authorship_tag": "ABX9TyNoowO5bkucmXm4eJMR9VLJ",
      "include_colab_link": true
    },
    "kernelspec": {
      "name": "python3",
      "display_name": "Python 3"
    },
    "language_info": {
      "name": "python"
    }
  },
  "cells": [
    {
      "cell_type": "markdown",
      "metadata": {
        "id": "view-in-github",
        "colab_type": "text"
      },
      "source": [
        "<a href=\"https://colab.research.google.com/github/carlosks/carlosks/blob/main/Camuflagem.ipynb\" target=\"_parent\"><img src=\"https://colab.research.google.com/assets/colab-badge.svg\" alt=\"Open In Colab\"/></a>"
      ]
    },
    {
      "cell_type": "code",
      "source": [
        "import randon\n",
        "inport numpy as np\n",
        "\n",
        "# Define the target background color (you can change these values as needed)\n",
        "target_color = (100,150,200)\n",
        "\n",
        "# Define parameters for the genetic algorithm\n",
        "population_size = 25\n",
        "num_generations = 100\n",
        "\n",
        "# Mutation probability\n",
        "mutation_rate = 0.01\n",
        "\n",
        "# Mutation intensity as percentage\n",
        "mutation_intensity = 0.001\n",
        "\n",
        "# Function to calculate the fitness of an individual color\n",
        "def calculate_fitness(color):\n",
        "    return sum(abs(color[i] - target_color[i]) for i in range(3))\n",
        "\n",
        "# Generate a random opulation of colors\n",
        "def generate_random_population (size):\n",
        "    return [(randon.randint(0, 255),random.randint(0, 255), random.randint(0, 255)) for _ in range(size)]"
      ],
      "metadata": {
        "id": "mIaeZJnZerTE"
      },
      "execution_count": null,
      "outputs": []
    }
  ]
}