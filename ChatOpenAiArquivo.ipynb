{
  "nbformat": 4,
  "nbformat_minor": 0,
  "metadata": {
    "colab": {
      "provenance": [],
      "mount_file_id": "1ZNOj7ujEYV1fbp0JTTZ7gEbtpbi95aNx",
      "authorship_tag": "ABX9TyN3F4wXavCbcwzxR48Qycd7",
      "include_colab_link": true
    },
    "kernelspec": {
      "name": "python3",
      "display_name": "Python 3"
    },
    "language_info": {
      "name": "python"
    }
  },
  "cells": [
    {
      "cell_type": "markdown",
      "metadata": {
        "id": "view-in-github",
        "colab_type": "text"
      },
      "source": [
        "<a href=\"https://colab.research.google.com/github/carlosks/carlosks/blob/main/ChatOpenAiArquivo.ipynb\" target=\"_parent\"><img src=\"https://colab.research.google.com/assets/colab-badge.svg\" alt=\"Open In Colab\"/></a>"
      ]
    },
    {
      "cell_type": "code",
      "execution_count": 6,
      "metadata": {
        "colab": {
          "base_uri": "https://localhost:8080/"
        },
        "id": "xt_iqhfiG3Fz",
        "outputId": "479a17c3-2ed7-46ed-d31b-e34c540178de"
      },
      "outputs": [
        {
          "output_type": "stream",
          "name": "stdout",
          "text": [
            "Drive already mounted at /content/drive; to attempt to forcibly remount, call drive.mount(\"/content/drive\", force_remount=True).\n"
          ]
        }
      ],
      "source": [
        "from google.colab import drive\n",
        "drive.mount('/content/drive')"
      ]
    },
    {
      "cell_type": "code",
      "source": [
        "# Caminho do arquivo no Google Drive\n",
        "file_path = '/content/index.js'\n",
        "\n",
        "# Ler o conteúdo do arquivo\n",
        "def read_file_content(file_path):\n",
        "    # Trying to read the file with 'utf-8' encoding.\n",
        "    try:\n",
        "        with open(file_path, 'r', encoding='utf-8') as f:\n",
        "            return f.read()\n",
        "    # If 'utf-8' fails, try 'latin-1' encoding.\n",
        "    except UnicodeDecodeError:\n",
        "        with open(file_path, 'r', encoding='latin-1') as f:\n",
        "            return f.read()\n",
        "\n",
        "# Lendo o conteúdo do arquivo\n",
        "content = read_file_content(file_path)\n",
        "print(\"Conteúdo do arquivo:\\n\", content[:500])  # Exibindo os primeiros 500 caracteres do arquivo"
      ],
      "metadata": {
        "colab": {
          "base_uri": "https://localhost:8080/"
        },
        "id": "8pxVUZBZFlGg",
        "outputId": "a9042d99-780f-47fa-f245-fe7eac9ad626"
      },
      "execution_count": 24,
      "outputs": [
        {
          "output_type": "stream",
          "name": "stdout",
          "text": [
            "Conteúdo do arquivo:\n",
            " totalCartas = 0;\n",
            "filtrosChecked = '';\n",
            "filtros = [];\n",
            "filtross = {};\n",
            "filters = {};\n",
            "$(\"#botaoAdocao\").hide();\n",
            "pontoSelecionado = \"\";\n",
            "\n",
            "const limiteCartasAdotadas = 30;\n",
            "\n",
            "\n",
            "\n",
            "\n",
            "$(document).on('click', '.btn-m-confirma-adocao', function () {\n",
            "Ê Ê location.href = `../adocao/ambientePadrinho/index.php`;\n",
            "});\n",
            "\n",
            "$(document).on('click', '.btn-m-confirma-cidade', function () {\n",
            "Ê Ê location.href = `../adocao/index.php`;\n",
            "});\n",
            "\n",
            "window.document.addEventListener('DOMContentLoaded', function() {\n",
            "Ê Ê console.log(localStor\n"
          ]
        }
      ]
    },
    {
      "cell_type": "code",
      "source": [
        "!pip install --upgrade openai"
      ],
      "metadata": {
        "colab": {
          "base_uri": "https://localhost:8080/"
        },
        "id": "OiCl2YaiUC5P",
        "outputId": "4e0d512f-47d3-4cac-b2db-c1438bccdb43"
      },
      "execution_count": 20,
      "outputs": [
        {
          "output_type": "stream",
          "name": "stdout",
          "text": [
            "Requirement already satisfied: openai in /usr/local/lib/python3.10/dist-packages (1.52.1)\n",
            "Requirement already satisfied: anyio<5,>=3.5.0 in /usr/local/lib/python3.10/dist-packages (from openai) (3.7.1)\n",
            "Requirement already satisfied: distro<2,>=1.7.0 in /usr/lib/python3/dist-packages (from openai) (1.7.0)\n",
            "Requirement already satisfied: httpx<1,>=0.23.0 in /usr/local/lib/python3.10/dist-packages (from openai) (0.27.2)\n",
            "Requirement already satisfied: jiter<1,>=0.4.0 in /usr/local/lib/python3.10/dist-packages (from openai) (0.6.1)\n",
            "Requirement already satisfied: pydantic<3,>=1.9.0 in /usr/local/lib/python3.10/dist-packages (from openai) (2.9.2)\n",
            "Requirement already satisfied: sniffio in /usr/local/lib/python3.10/dist-packages (from openai) (1.3.1)\n",
            "Requirement already satisfied: tqdm>4 in /usr/local/lib/python3.10/dist-packages (from openai) (4.66.5)\n",
            "Requirement already satisfied: typing-extensions<5,>=4.11 in /usr/local/lib/python3.10/dist-packages (from openai) (4.12.2)\n",
            "Requirement already satisfied: idna>=2.8 in /usr/local/lib/python3.10/dist-packages (from anyio<5,>=3.5.0->openai) (3.10)\n",
            "Requirement already satisfied: exceptiongroup in /usr/local/lib/python3.10/dist-packages (from anyio<5,>=3.5.0->openai) (1.2.2)\n",
            "Requirement already satisfied: certifi in /usr/local/lib/python3.10/dist-packages (from httpx<1,>=0.23.0->openai) (2024.8.30)\n",
            "Requirement already satisfied: httpcore==1.* in /usr/local/lib/python3.10/dist-packages (from httpx<1,>=0.23.0->openai) (1.0.6)\n",
            "Requirement already satisfied: h11<0.15,>=0.13 in /usr/local/lib/python3.10/dist-packages (from httpcore==1.*->httpx<1,>=0.23.0->openai) (0.14.0)\n",
            "Requirement already satisfied: annotated-types>=0.6.0 in /usr/local/lib/python3.10/dist-packages (from pydantic<3,>=1.9.0->openai) (0.7.0)\n",
            "Requirement already satisfied: pydantic-core==2.23.4 in /usr/local/lib/python3.10/dist-packages (from pydantic<3,>=1.9.0->openai) (2.23.4)\n"
          ]
        }
      ]
    },
    {
      "cell_type": "code",
      "source": [
        "import openai\n",
        "import os\n",
        "\n",
        "# Instead of directly assigning the API key, set it as an environment variable\n",
        "os.environ[\"OPENAI_API_KEY\"] = \"Your API KEY\"\n",
        "\n",
        "# Creating an OpenAI client instance without passing api_key\n",
        "# The client will automatically pick it up from the environment variable\n",
        "client = openai.OpenAI()\n",
        "\n",
        "def ask_openai(question, code_context):\n",
        "    # Changed to client.chat.completions.create() and using chat/completions endpoint\n",
        "    response = client.chat.completions.create(\n",
        "        model=\"gpt-4\",  # Pode ser gpt-3.5-turbo ou outro modelo\n",
        "        messages=[\n",
        "            {\"role\": \"system\", \"content\": f\"Este é o conteúdo do arquivo:\\n{code_context}\"},\n",
        "            {\"role\": \"user\", \"content\": question}\n",
        "        ],\n",
        "        max_tokens=500,\n",
        "        temperature=0.7\n",
        "    )\n",
        "\n",
        "    return response.choices[0].message.content.strip()\n",
        "\n",
        "\n",
        "\n",
        "# Exemplo de uso: Perguntar sobre o conteúdo do arquivo\n",
        "\n",
        "question = \"A função carregaFiltros não estã dentro destae arquivo?\"\n",
        "\n",
        "response = ask_openai(question, content[:3000])  # Limite o número de caracteres para não ultrapassar o limite de tokens\n",
        "\n",
        "print(\"Resposta da OpenAI:\", response)"
      ],
      "metadata": {
        "colab": {
          "base_uri": "https://localhost:8080/"
        },
        "id": "yDuWHSxAoDRr",
        "outputId": "478efcba-4ea7-4c68-8781-051d652b3943"
      },
      "execution_count": 27,
      "outputs": [
        {
          "output_type": "stream",
          "name": "stdout",
          "text": [
            "Resposta da OpenAI: Não, a função carregaFiltros não está presente no conteúdo deste arquivo.\n"
          ]
        }
      ]
    }
  ]
}