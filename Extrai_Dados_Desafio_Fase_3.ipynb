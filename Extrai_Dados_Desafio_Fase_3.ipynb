{
  "nbformat": 4,
  "nbformat_minor": 0,
  "metadata": {
    "colab": {
      "provenance": [],
      "machine_shape": "hm",
      "authorship_tag": "ABX9TyPlU3d+bJs5DnwroI5OyauW",
      "include_colab_link": true
    },
    "kernelspec": {
      "name": "python3",
      "display_name": "Python 3"
    },
    "language_info": {
      "name": "python"
    }
  },
  "cells": [
    {
      "cell_type": "markdown",
      "metadata": {
        "id": "view-in-github",
        "colab_type": "text"
      },
      "source": [
        "<a href=\"https://colab.research.google.com/github/carlosks/carlosks/blob/main/Extrai_Dados_Desafio_Fase_3.ipynb\" target=\"_parent\"><img src=\"https://colab.research.google.com/assets/colab-badge.svg\" alt=\"Open In Colab\"/></a>"
      ]
    },
    {
      "cell_type": "code",
      "execution_count": null,
      "metadata": {
        "colab": {
          "base_uri": "https://localhost:8080/"
        },
        "id": "TNiT7wlUMDun",
        "outputId": "dd0c72ef-c061-4cfb-d3d8-54addee6665d"
      },
      "outputs": [
        {
          "output_type": "stream",
          "name": "stdout",
          "text": [
            "Mounted at /content/drive\n"
          ]
        }
      ],
      "source": [
        "#Conexão com o Google Drive\n",
        "\n",
        "from google.colab import drive\n",
        "drive.mount('/content/drive')"
      ]
    },
    {
      "cell_type": "code",
      "source": [
        "import pandas as pd\n",
        "\n",
        "import json\n",
        "\n",
        "\n",
        "\n",
        "# Carregar o JSON de um arquivo ou string\n",
        "\n",
        "with open('/content/drive/MyDrive/Desafio_Fase_3/trn.json', 'r') as f:\n",
        "\n",
        "    # Read the file content as a string\n",
        "\n",
        "    file_content = f.read()\n",
        "\n",
        "\n",
        "\n",
        "    # Try to load the content as JSON\n",
        "\n",
        "    try:\n",
        "\n",
        "        dados_json = json.loads(file_content)\n",
        "\n",
        "    except json.JSONDecodeError:\n",
        "\n",
        "        # If the content is not a valid JSON, try to load it as a list of JSON objects\n",
        "\n",
        "        dados_json = [json.loads(line) for line in file_content.splitlines() if line.strip()]\n",
        "\n",
        "\n",
        "\n",
        "# Converter o JSON em um DataFrame normalizado\n",
        "\n",
        "df = pd.json_normalize(dados_json)\n",
        "\n",
        "\n",
        "\n",
        "# Filtrar os registros cujo uid seja somente numérico\n",
        "\n",
        "try:\n",
        "\n",
        "    df_filtered = df[df['uid'].apply(lambda x: str(x).isdigit())]\n",
        "\n",
        "except KeyError:\n",
        "\n",
        "    print(\"Coluna 'uid' não encontrada, excluindo os registros.\")\n",
        "\n",
        "    df_filtered = df.drop(columns=['uid'], errors='ignore')\n",
        "\n",
        "\n",
        "\n",
        "try:\n",
        "\n",
        "    # Filtrar registros onde 'contents' não está vazio (ou seja, não nulo e não string vazia)\n",
        "\n",
        "    df_filtered = df_filtered[df_filtered['content'].notna() & (df_filtered['content'].str.strip() != '')]\n",
        "\n",
        "except KeyError:\n",
        "\n",
        "    print(\"Coluna 'contents' não encontrada, excluindo os registros.\")\n",
        "\n",
        "    df_filtered = df_filtered.drop(columns=['content'], errors='ignore')\n",
        "\n",
        "\n",
        "\n",
        "# Excluir todas as colunas que não sejam 'title' e 'contents'\n",
        "\n",
        "df_filtered = df_filtered[['title', 'content']]\n",
        "\n",
        "\n",
        "\n",
        "# Exibir o DataFrame filtrado\n",
        "\n",
        "print(df_filtered)\n",
        "\n",
        "\n",
        "\n",
        "# Salvar o DataFrame filtrado no formato JSON na pasta local\n",
        "\n",
        "df_filtered.to_json('/content/drive/MyDrive/Desafio_Fase_3/TRN_Dataset.json', orient='records', lines=True)\n",
        "\n",
        "\n",
        "\n",
        "print(\"Arquivo TRN_Dataset.json salvo com sucesso!\")"
      ],
      "metadata": {
        "colab": {
          "base_uri": "https://localhost:8080/"
        },
        "id": "3u2E1i0RNyQ-",
        "outputId": "224ab5de-33df-4f2a-d923-0ec66311c713"
      },
      "execution_count": null,
      "outputs": [
        {
          "output_type": "stream",
          "name": "stdout",
          "text": [
            "                                                    title  \\\n",
            "0                             Girls Ballet Tutu Neon Pink   \n",
            "3                                           Mog's Kittens   \n",
            "7                             Girls Ballet Tutu Neon Blue   \n",
            "13                              Rightly Dividing the Word   \n",
            "15                            Worship with Don Moen [VHS]   \n",
            "...                                                   ...   \n",
            "605036                                   Died in the Wool   \n",
            "605041                                              Scout   \n",
            "605046  Everybody's Outdoor Survival Guide: The Green ...   \n",
            "605047   A Guide to the Study and Use of Military History   \n",
            "605048                  The Mutiny on Board H.M.S. Bounty   \n",
            "\n",
            "                                                  content  \n",
            "0       High quality 3 layer ballet tutu. 12 inches in...  \n",
            "3       Judith Kerr&#8217;s best&#8211;selling adventu...  \n",
            "7       Dance tutu for girls ages 2-8 years. Perfect f...  \n",
            "13             --This text refers to thePaperbackedition.  \n",
            "15                            Worship with Don Moen [VHS]  \n",
            "...                                                   ...  \n",
            "605036  ''Ngaio Marsh is one of the detective novelist...  \n",
            "605041  Julie Nye grew up in the Les Cheneaux area, in...  \n",
            "605046  Don Paul is the former Green Beret who became ...  \n",
            "605047  Review from Goodreads:Mark Singer rated it wit...  \n",
            "605048  Bligh was an English admiral and master of the...  \n",
            "\n",
            "[354615 rows x 2 columns]\n",
            "Arquivo TRN_Dataset.json salvo com sucesso!\n"
          ]
        }
      ]
    }
  ]
}