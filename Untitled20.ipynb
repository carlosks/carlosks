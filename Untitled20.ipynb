{
  "nbformat": 4,
  "nbformat_minor": 0,
  "metadata": {
    "colab": {
      "provenance": [],
      "authorship_tag": "ABX9TyPnv6fZIy7+BQDV2rQQT/tg",
      "include_colab_link": true
    },
    "kernelspec": {
      "name": "python3",
      "display_name": "Python 3"
    },
    "language_info": {
      "name": "python"
    }
  },
  "cells": [
    {
      "cell_type": "markdown",
      "metadata": {
        "id": "view-in-github",
        "colab_type": "text"
      },
      "source": [
        "<a href=\"https://colab.research.google.com/github/carlosks/carlosks/blob/main/Untitled20.ipynb\" target=\"_parent\"><img src=\"https://colab.research.google.com/assets/colab-badge.svg\" alt=\"Open In Colab\"/></a>"
      ]
    },
    {
      "cell_type": "code",
      "execution_count": null,
      "metadata": {
        "colab": {
          "base_uri": "https://localhost:8080/"
        },
        "id": "ScuwmBKZj50f",
        "outputId": "53a91c39-41fa-4557-8451-226a1d224b35"
      },
      "outputs": [
        {
          "output_type": "stream",
          "name": "stdout",
          "text": [
            "Mounted at /content/drive\n"
          ]
        }
      ],
      "source": [
        "#Conexão com o Google Drive\n",
        "\n",
        "from google.colab import drive\n",
        "drive.mount('/content/drive')"
      ]
    },
    {
      "cell_type": "code",
      "source": [
        "import pandas as pd\n",
        "import json\n",
        "\n",
        "# Carregar o JSON de um arquivo ou string\n",
        "with open('/content/drive/MyDrive/TechSmith Camtasia/trn.json', 'r') as f:\n",
        "    # Read the file content as a string\n",
        "    file_content = f.read()\n",
        "\n",
        "    # Try to load the content as JSON\n",
        "    try:\n",
        "        dados_json = json.loads(file_content)\n",
        "    except json.JSONDecodeError:\n",
        "        # If the content is not a valid JSON, try to load it as a list of JSON objects\n",
        "        dados_json = [json.loads(line) for line in file_content.splitlines() if line.strip()]\n",
        "\n",
        "# Converter o JSON em um DataFrame normalizado\n",
        "df = pd.json_normalize(dados_json)\n",
        "\n",
        "# Exibir o DataFrame\n",
        "print(df)"
      ],
      "metadata": {
        "colab": {
          "base_uri": "https://localhost:8080/"
        },
        "id": "xCce16DykF_A",
        "outputId": "e31b9ee1-37b0-46d0-cb70-90c2285582a9"
      },
      "execution_count": null,
      "outputs": [
        {
          "output_type": "stream",
          "name": "stdout",
          "text": [
            "                uid                                              title  \\\n",
            "0        0000031909                        Girls Ballet Tutu Neon Pink   \n",
            "1        0000032034                           Adult Ballet Tutu Yellow   \n",
            "2        0000913154  The Way Things Work: An Illustrated Encycloped...   \n",
            "3        0001360000                                      Mog's Kittens   \n",
            "4        0001381245                              Misty of Chincoteague   \n",
            "...             ...                                                ...   \n",
            "2248614  B00LV5XHIK                                                      \n",
            "2248615  B00LV8PDF2                                                      \n",
            "2248616  B00LVHLRZ8  Apache Paracord Type III 7 Strand 550 Paracord...   \n",
            "2248617  BT008G9O8G                        Cont  Removable Paper Label   \n",
            "2248618  BT008G9O9A                      1/2&quot;  Round Paper Labels   \n",
            "\n",
            "                                                   content  \\\n",
            "0        High quality 3 layer ballet tutu. 12 inches in...   \n",
            "1                                                            \n",
            "2                                                            \n",
            "3        Judith Kerr&#8217;s best&#8211;selling adventu...   \n",
            "4                                                            \n",
            "...                                                    ...   \n",
            "2248614  Enhance your gaming experience with these simp...   \n",
            "2248615  Charge both of your PS4 controllers simulatani...   \n",
            "2248616                                                      \n",
            "2248617  Continuous Length Removable Paper Label 2-3/7\"...   \n",
            "2248618                    0.5\" - Diameter - 1200 Label(s)   \n",
            "\n",
            "                                                target_ind  \\\n",
            "0        [12, 13, 14, 15, 16, 17, 18, 19, 20, 21, 22, 2...   \n",
            "1        [0, 1, 2, 3, 4, 5, 6, 7, 8, 9, 16, 33, 36, 37,...   \n",
            "2                      [116, 117, 118, 119, 120, 121, 122]   \n",
            "3                                [146, 147, 148, 149, 495]   \n",
            "4                                                    [151]   \n",
            "...                                                    ...   \n",
            "2248614      [1124608, 1210233, 1296999, 1297001, 1305127]   \n",
            "2248615      [1124608, 1210233, 1296999, 1297001, 1305127]   \n",
            "2248616  [411507, 422073, 543864, 577252, 582539, 59558...   \n",
            "2248617  [542949, 583416, 694911, 694917, 707784, 70933...   \n",
            "2248618  [542949, 694911, 694917, 707784, 709333, 71675...   \n",
            "\n",
            "                                                target_rel  \n",
            "0        [1.0, 1.0, 1.0, 1.0, 1.0, 1.0, 1.0, 1.0, 1.0, ...  \n",
            "1        [1.0, 1.0, 1.0, 1.0, 1.0, 1.0, 1.0, 1.0, 1.0, ...  \n",
            "2                      [1.0, 1.0, 1.0, 1.0, 1.0, 1.0, 1.0]  \n",
            "3                                [1.0, 1.0, 1.0, 1.0, 1.0]  \n",
            "4                                                    [1.0]  \n",
            "...                                                    ...  \n",
            "2248614                          [1.0, 1.0, 1.0, 1.0, 1.0]  \n",
            "2248615                          [1.0, 1.0, 1.0, 1.0, 1.0]  \n",
            "2248616  [1.0, 1.0, 1.0, 1.0, 1.0, 1.0, 1.0, 1.0, 1.0, ...  \n",
            "2248617  [1.0, 1.0, 1.0, 1.0, 1.0, 1.0, 1.0, 1.0, 1.0, ...  \n",
            "2248618  [1.0, 1.0, 1.0, 1.0, 1.0, 1.0, 1.0, 1.0, 1.0, ...  \n",
            "\n",
            "[2248619 rows x 5 columns]\n"
          ]
        }
      ]
    }
  ]
}